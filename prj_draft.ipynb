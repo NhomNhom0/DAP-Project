{
 "cells": [
  {
   "cell_type": "code",
   "execution_count": 11,
   "metadata": {},
   "outputs": [
    {
     "name": "stdout",
     "output_type": "stream",
     "text": [
      "Pearson correlation: 0.635\n",
      "Point-biserial correlation: 0.635\n"
     ]
    }
   ],
   "source": [
    "from scipy.stats import pearsonr, pointbiserialr\n",
    "\n",
    "# Create some example data\n",
    "x = [1, 2, 3, 4, 5, 6, 7, 8, 9, 10, 11]\n",
    "y = [0, 0, 0, 0, 0, 1, 1 , 1, 1, 0, 1]\n",
    "\n",
    "# Calculate the Pearson correlation coefficient\n",
    "r1, _ = pearsonr(x, y)\n",
    "print(f'Pearson correlation: {r1:.3f}')\n",
    "\n",
    "# Calculate the point-biserial correlation coefficient\n",
    "r2, _ = pointbiserialr(x, y)\n",
    "print(f'Point-biserial correlation: {r2:.3f}')"
   ]
  }
 ],
 "metadata": {
  "kernelspec": {
   "display_name": "Python 3",
   "language": "python",
   "name": "python3"
  },
  "language_info": {
   "codemirror_mode": {
    "name": "ipython",
    "version": 3
   },
   "file_extension": ".py",
   "mimetype": "text/x-python",
   "name": "python",
   "nbconvert_exporter": "python",
   "pygments_lexer": "ipython3",
   "version": "3.11.1"
  },
  "orig_nbformat": 4
 },
 "nbformat": 4,
 "nbformat_minor": 2
}
